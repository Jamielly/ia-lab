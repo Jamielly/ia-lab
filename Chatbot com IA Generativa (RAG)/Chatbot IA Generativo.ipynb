{
 "cells": [
  {
   "cell_type": "code",
   "execution_count": null,
   "id": "c7e16578",
   "metadata": {
    "vscode": {
     "languageId": "plaintext"
    }
   },
   "outputs": [],
   "source": [
    "!pip install -q -U google-generativeai"
   ]
  },
  {
   "cell_type": "code",
   "execution_count": null,
   "id": "343ce575",
   "metadata": {
    "vscode": {
     "languageId": "plaintext"
    }
   },
   "outputs": [],
   "source": [
    "\n",
    "import google.generativeai as genai"
   ]
  },
  {
   "cell_type": "code",
   "execution_count": null,
   "id": "7daeeed9",
   "metadata": {
    "vscode": {
     "languageId": "plaintext"
    }
   },
   "outputs": [],
   "source": [
    "from google.colab import userdata\n",
    "\n",
    "# Lê a chave do ambiente ou direto do código (troque conforme método escolhido)\n",
    "# GOOGLE_API_KEY = \"SUA_CHAVE_AQUI\"  # <-- método simples\n",
    "GOOGLE_API_KEY = userdata.get('GOOGLE_API_KEY')  # <-- método seguro\n",
    "genai.configure(api_key=GOOGLE_API_KEY)"
   ]
  },
  {
   "cell_type": "code",
   "execution_count": null,
   "id": "0a21652d",
   "metadata": {
    "vscode": {
     "languageId": "plaintext"
    }
   },
   "outputs": [],
   "source": [
    "#Aconselho verificar os modelos para evitar erros\n",
    "for m in genai.list_models():\n",
    "    if 'generateContent' in m.supported_generation_methods:\n",
    "        print(m.name)"
   ]
  },
  {
   "cell_type": "code",
   "execution_count": null,
   "id": "37384f31",
   "metadata": {
    "vscode": {
     "languageId": "plaintext"
    }
   },
   "outputs": [],
   "source": [
    "model = genai.GenerativeModel(\"gemini-2.5-pro\")"
   ]
  },
  {
   "cell_type": "code",
   "execution_count": null,
   "id": "5e26143d",
   "metadata": {
    "vscode": {
     "languageId": "plaintext"
    }
   },
   "outputs": [],
   "source": [
    "#Teste rápido\n",
    "response = model.generate_content(\"Quem criou o Gemini?\")\n",
    "print(\"Resposta:\", response.text)"
   ]
  },
  {
   "cell_type": "code",
   "execution_count": null,
   "id": "47ede0ef",
   "metadata": {
    "vscode": {
     "languageId": "plaintext"
    }
   },
   "outputs": [],
   "source": [
    "#Iniciação do chat interativo\n",
    "chat = model.start_chat(history=[])"
   ]
  },
  {
   "cell_type": "code",
   "execution_count": null,
   "id": "cfb8c078",
   "metadata": {
    "vscode": {
     "languageId": "plaintext"
    }
   },
   "outputs": [],
   "source": [
    "#Laço de repetição para verificação garantir uma boa \"interface\" e um funcionamento bacana\n",
    "while True:\n",
    "    prompt = input(\"\\nVocê: \")\n",
    "    if prompt.lower() in [\"fim\", \"sair\", \"exit\"]:\n",
    "        print(\"Encerrando chat...\")\n",
    "        break\n",
    "\n",
    "    response = chat.send_message(prompt)\n",
    "    print(\"Gemini:\", response.text)"
   ]
  },
  {
   "cell_type": "code",
   "execution_count": null,
   "id": "b55a8158",
   "metadata": {
    "vscode": {
     "languageId": "plaintext"
    }
   },
   "outputs": [],
   "source": [
    "#chat = model.start_chat(history=[])\n",
    "#prompt = input(\"Esperando o prompt: \")\n",
    "#while prompt != \"fim\":\n",
    "#response = chat.send_message(prompt)\n",
    "#print(response.text)\n",
    "#prompt = input(\"do que é feita o planeta terra?\")"
   ]
  }
 ],
 "metadata": {
  "language_info": {
   "name": "python"
  }
 },
 "nbformat": 4,
 "nbformat_minor": 5
}
